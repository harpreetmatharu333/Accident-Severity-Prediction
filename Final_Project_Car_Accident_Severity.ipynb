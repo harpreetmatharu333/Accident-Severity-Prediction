{
 "cells": [
  {
   "cell_type": "markdown",
   "metadata": {
    "collapsed": true
   },
   "source": [
    "# Introduction / Business Problem"
   ]
  },
  {
   "cell_type": "markdown",
   "metadata": {},
   "source": [
    "Car accidents are one of the most common issue found across the globe to be severe.Accidents might sometimes be due to oue negligence or due to natural reasons or anything. Sometimes, we might be too lazy or negligent to drive costing our lives as well as the others. Whereas sometimes, due to heavy rain or heavy gales etc. We might unknowingly droop into accident with the other car. Whatever the reason maybe, car accident not only lead to property damage but cause injuries and sometimes even leading to people's death. In our project we decide how these accidents occur due to weather conditions.So, the main problem or question arising in this depressing situation is\n",
    "\n",
    "\"what is the severity of these car accidents ? \" \n",
    "\"What are their causes?\" \n",
    " and \n",
    "\"How to curb or slow down them ?\""
   ]
  },
  {
   "cell_type": "markdown",
   "metadata": {},
   "source": [
    "# Data Section"
   ]
  },
  {
   "cell_type": "markdown",
   "metadata": {},
   "source": [
    "We have several attributes in our dataset which tell us about the severity of these accidents.attributes like WEATHER, ROADCOND, LIGHTCOND, JUNCTIONTYPE can tell us about the accidents which happen naturally.And attributes like SEVERITYDESC and COLLISIONTYPE help us decide how these accidents take place. Our predictor or target variable will be 'SEVERITYCODE' because it is used measure the severity of an accident from 0 to 5 within the dataset. Attributes used to weigh the severity of an accident are 'WEATHER', 'ROADCOND' and 'LIGHTCOND'.\n",
    "\n",
    "- 0 : Little to no Probability (Clear Weather Conditions)\n",
    "- 1 : Very Low Probability - Chance or Property Damage\n",
    "- 2 : Low Probability - Chance of Injury\n",
    "- 3 : Mild Probability - Chance of Serious Injury\n",
    "- 4 : High Probability - Chance of Fatality\n",
    "\n",
    "So depending on these severity codes, we decide the extent of severity of accidents due to these these weather conditions. "
   ]
  },
  {
   "cell_type": "markdown",
   "metadata": {},
   "source": [
    "## Data Pre-Processing and Exploration"
   ]
  },
  {
   "cell_type": "code",
   "execution_count": 59,
   "metadata": {
    "scrolled": true
   },
   "outputs": [
    {
     "data": {
      "text/html": [
       "<div>\n",
       "<style scoped>\n",
       "    .dataframe tbody tr th:only-of-type {\n",
       "        vertical-align: middle;\n",
       "    }\n",
       "\n",
       "    .dataframe tbody tr th {\n",
       "        vertical-align: top;\n",
       "    }\n",
       "\n",
       "    .dataframe thead th {\n",
       "        text-align: right;\n",
       "    }\n",
       "</style>\n",
       "<table border=\"1\" class=\"dataframe\">\n",
       "  <thead>\n",
       "    <tr style=\"text-align: right;\">\n",
       "      <th></th>\n",
       "      <th>SEVERITYCODE</th>\n",
       "      <th>X</th>\n",
       "      <th>Y</th>\n",
       "      <th>OBJECTID</th>\n",
       "      <th>INCKEY</th>\n",
       "      <th>COLDETKEY</th>\n",
       "      <th>REPORTNO</th>\n",
       "      <th>STATUS</th>\n",
       "      <th>ADDRTYPE</th>\n",
       "      <th>INTKEY</th>\n",
       "      <th>...</th>\n",
       "      <th>ROADCOND</th>\n",
       "      <th>LIGHTCOND</th>\n",
       "      <th>PEDROWNOTGRNT</th>\n",
       "      <th>SDOTCOLNUM</th>\n",
       "      <th>SPEEDING</th>\n",
       "      <th>ST_COLCODE</th>\n",
       "      <th>ST_COLDESC</th>\n",
       "      <th>SEGLANEKEY</th>\n",
       "      <th>CROSSWALKKEY</th>\n",
       "      <th>HITPARKEDCAR</th>\n",
       "    </tr>\n",
       "  </thead>\n",
       "  <tbody>\n",
       "    <tr>\n",
       "      <th>0</th>\n",
       "      <td>2</td>\n",
       "      <td>-122.323148</td>\n",
       "      <td>47.703140</td>\n",
       "      <td>1</td>\n",
       "      <td>1307</td>\n",
       "      <td>1307</td>\n",
       "      <td>3502005</td>\n",
       "      <td>Matched</td>\n",
       "      <td>Intersection</td>\n",
       "      <td>37475.0</td>\n",
       "      <td>...</td>\n",
       "      <td>Wet</td>\n",
       "      <td>Daylight</td>\n",
       "      <td>NaN</td>\n",
       "      <td>NaN</td>\n",
       "      <td>NaN</td>\n",
       "      <td>10</td>\n",
       "      <td>Entering at angle</td>\n",
       "      <td>0</td>\n",
       "      <td>0</td>\n",
       "      <td>N</td>\n",
       "    </tr>\n",
       "    <tr>\n",
       "      <th>1</th>\n",
       "      <td>1</td>\n",
       "      <td>-122.347294</td>\n",
       "      <td>47.647172</td>\n",
       "      <td>2</td>\n",
       "      <td>52200</td>\n",
       "      <td>52200</td>\n",
       "      <td>2607959</td>\n",
       "      <td>Matched</td>\n",
       "      <td>Block</td>\n",
       "      <td>NaN</td>\n",
       "      <td>...</td>\n",
       "      <td>Wet</td>\n",
       "      <td>Dark - Street Lights On</td>\n",
       "      <td>NaN</td>\n",
       "      <td>6354039.0</td>\n",
       "      <td>NaN</td>\n",
       "      <td>11</td>\n",
       "      <td>From same direction - both going straight - bo...</td>\n",
       "      <td>0</td>\n",
       "      <td>0</td>\n",
       "      <td>N</td>\n",
       "    </tr>\n",
       "    <tr>\n",
       "      <th>2</th>\n",
       "      <td>1</td>\n",
       "      <td>-122.334540</td>\n",
       "      <td>47.607871</td>\n",
       "      <td>3</td>\n",
       "      <td>26700</td>\n",
       "      <td>26700</td>\n",
       "      <td>1482393</td>\n",
       "      <td>Matched</td>\n",
       "      <td>Block</td>\n",
       "      <td>NaN</td>\n",
       "      <td>...</td>\n",
       "      <td>Dry</td>\n",
       "      <td>Daylight</td>\n",
       "      <td>NaN</td>\n",
       "      <td>4323031.0</td>\n",
       "      <td>NaN</td>\n",
       "      <td>32</td>\n",
       "      <td>One parked--one moving</td>\n",
       "      <td>0</td>\n",
       "      <td>0</td>\n",
       "      <td>N</td>\n",
       "    </tr>\n",
       "    <tr>\n",
       "      <th>3</th>\n",
       "      <td>1</td>\n",
       "      <td>-122.334803</td>\n",
       "      <td>47.604803</td>\n",
       "      <td>4</td>\n",
       "      <td>1144</td>\n",
       "      <td>1144</td>\n",
       "      <td>3503937</td>\n",
       "      <td>Matched</td>\n",
       "      <td>Block</td>\n",
       "      <td>NaN</td>\n",
       "      <td>...</td>\n",
       "      <td>Dry</td>\n",
       "      <td>Daylight</td>\n",
       "      <td>NaN</td>\n",
       "      <td>NaN</td>\n",
       "      <td>NaN</td>\n",
       "      <td>23</td>\n",
       "      <td>From same direction - all others</td>\n",
       "      <td>0</td>\n",
       "      <td>0</td>\n",
       "      <td>N</td>\n",
       "    </tr>\n",
       "    <tr>\n",
       "      <th>4</th>\n",
       "      <td>2</td>\n",
       "      <td>-122.306426</td>\n",
       "      <td>47.545739</td>\n",
       "      <td>5</td>\n",
       "      <td>17700</td>\n",
       "      <td>17700</td>\n",
       "      <td>1807429</td>\n",
       "      <td>Matched</td>\n",
       "      <td>Intersection</td>\n",
       "      <td>34387.0</td>\n",
       "      <td>...</td>\n",
       "      <td>Wet</td>\n",
       "      <td>Daylight</td>\n",
       "      <td>NaN</td>\n",
       "      <td>4028032.0</td>\n",
       "      <td>NaN</td>\n",
       "      <td>10</td>\n",
       "      <td>Entering at angle</td>\n",
       "      <td>0</td>\n",
       "      <td>0</td>\n",
       "      <td>N</td>\n",
       "    </tr>\n",
       "    <tr>\n",
       "      <th>...</th>\n",
       "      <td>...</td>\n",
       "      <td>...</td>\n",
       "      <td>...</td>\n",
       "      <td>...</td>\n",
       "      <td>...</td>\n",
       "      <td>...</td>\n",
       "      <td>...</td>\n",
       "      <td>...</td>\n",
       "      <td>...</td>\n",
       "      <td>...</td>\n",
       "      <td>...</td>\n",
       "      <td>...</td>\n",
       "      <td>...</td>\n",
       "      <td>...</td>\n",
       "      <td>...</td>\n",
       "      <td>...</td>\n",
       "      <td>...</td>\n",
       "      <td>...</td>\n",
       "      <td>...</td>\n",
       "      <td>...</td>\n",
       "      <td>...</td>\n",
       "    </tr>\n",
       "    <tr>\n",
       "      <th>194668</th>\n",
       "      <td>2</td>\n",
       "      <td>-122.290826</td>\n",
       "      <td>47.565408</td>\n",
       "      <td>219543</td>\n",
       "      <td>309534</td>\n",
       "      <td>310814</td>\n",
       "      <td>E871089</td>\n",
       "      <td>Matched</td>\n",
       "      <td>Block</td>\n",
       "      <td>NaN</td>\n",
       "      <td>...</td>\n",
       "      <td>Dry</td>\n",
       "      <td>Daylight</td>\n",
       "      <td>NaN</td>\n",
       "      <td>NaN</td>\n",
       "      <td>NaN</td>\n",
       "      <td>24</td>\n",
       "      <td>From opposite direction - both moving - head-on</td>\n",
       "      <td>0</td>\n",
       "      <td>0</td>\n",
       "      <td>N</td>\n",
       "    </tr>\n",
       "    <tr>\n",
       "      <th>194669</th>\n",
       "      <td>1</td>\n",
       "      <td>-122.344526</td>\n",
       "      <td>47.690924</td>\n",
       "      <td>219544</td>\n",
       "      <td>309085</td>\n",
       "      <td>310365</td>\n",
       "      <td>E876731</td>\n",
       "      <td>Matched</td>\n",
       "      <td>Block</td>\n",
       "      <td>NaN</td>\n",
       "      <td>...</td>\n",
       "      <td>Wet</td>\n",
       "      <td>Daylight</td>\n",
       "      <td>NaN</td>\n",
       "      <td>NaN</td>\n",
       "      <td>NaN</td>\n",
       "      <td>13</td>\n",
       "      <td>From same direction - both going straight - bo...</td>\n",
       "      <td>0</td>\n",
       "      <td>0</td>\n",
       "      <td>N</td>\n",
       "    </tr>\n",
       "    <tr>\n",
       "      <th>194670</th>\n",
       "      <td>2</td>\n",
       "      <td>-122.306689</td>\n",
       "      <td>47.683047</td>\n",
       "      <td>219545</td>\n",
       "      <td>311280</td>\n",
       "      <td>312640</td>\n",
       "      <td>3809984</td>\n",
       "      <td>Matched</td>\n",
       "      <td>Intersection</td>\n",
       "      <td>24760.0</td>\n",
       "      <td>...</td>\n",
       "      <td>Dry</td>\n",
       "      <td>Daylight</td>\n",
       "      <td>NaN</td>\n",
       "      <td>NaN</td>\n",
       "      <td>NaN</td>\n",
       "      <td>28</td>\n",
       "      <td>From opposite direction - one left turn - one ...</td>\n",
       "      <td>0</td>\n",
       "      <td>0</td>\n",
       "      <td>N</td>\n",
       "    </tr>\n",
       "    <tr>\n",
       "      <th>194671</th>\n",
       "      <td>2</td>\n",
       "      <td>-122.355317</td>\n",
       "      <td>47.678734</td>\n",
       "      <td>219546</td>\n",
       "      <td>309514</td>\n",
       "      <td>310794</td>\n",
       "      <td>3810083</td>\n",
       "      <td>Matched</td>\n",
       "      <td>Intersection</td>\n",
       "      <td>24349.0</td>\n",
       "      <td>...</td>\n",
       "      <td>Dry</td>\n",
       "      <td>Dusk</td>\n",
       "      <td>NaN</td>\n",
       "      <td>NaN</td>\n",
       "      <td>NaN</td>\n",
       "      <td>5</td>\n",
       "      <td>Vehicle Strikes Pedalcyclist</td>\n",
       "      <td>4308</td>\n",
       "      <td>0</td>\n",
       "      <td>N</td>\n",
       "    </tr>\n",
       "    <tr>\n",
       "      <th>194672</th>\n",
       "      <td>1</td>\n",
       "      <td>-122.289360</td>\n",
       "      <td>47.611017</td>\n",
       "      <td>219547</td>\n",
       "      <td>308220</td>\n",
       "      <td>309500</td>\n",
       "      <td>E868008</td>\n",
       "      <td>Matched</td>\n",
       "      <td>Block</td>\n",
       "      <td>NaN</td>\n",
       "      <td>...</td>\n",
       "      <td>Wet</td>\n",
       "      <td>Daylight</td>\n",
       "      <td>NaN</td>\n",
       "      <td>NaN</td>\n",
       "      <td>NaN</td>\n",
       "      <td>14</td>\n",
       "      <td>From same direction - both going straight - on...</td>\n",
       "      <td>0</td>\n",
       "      <td>0</td>\n",
       "      <td>N</td>\n",
       "    </tr>\n",
       "  </tbody>\n",
       "</table>\n",
       "<p>194673 rows × 38 columns</p>\n",
       "</div>"
      ],
      "text/plain": [
       "        SEVERITYCODE           X          Y  OBJECTID  INCKEY  COLDETKEY  \\\n",
       "0                  2 -122.323148  47.703140         1    1307       1307   \n",
       "1                  1 -122.347294  47.647172         2   52200      52200   \n",
       "2                  1 -122.334540  47.607871         3   26700      26700   \n",
       "3                  1 -122.334803  47.604803         4    1144       1144   \n",
       "4                  2 -122.306426  47.545739         5   17700      17700   \n",
       "...              ...         ...        ...       ...     ...        ...   \n",
       "194668             2 -122.290826  47.565408    219543  309534     310814   \n",
       "194669             1 -122.344526  47.690924    219544  309085     310365   \n",
       "194670             2 -122.306689  47.683047    219545  311280     312640   \n",
       "194671             2 -122.355317  47.678734    219546  309514     310794   \n",
       "194672             1 -122.289360  47.611017    219547  308220     309500   \n",
       "\n",
       "       REPORTNO   STATUS      ADDRTYPE   INTKEY  ... ROADCOND  \\\n",
       "0       3502005  Matched  Intersection  37475.0  ...      Wet   \n",
       "1       2607959  Matched         Block      NaN  ...      Wet   \n",
       "2       1482393  Matched         Block      NaN  ...      Dry   \n",
       "3       3503937  Matched         Block      NaN  ...      Dry   \n",
       "4       1807429  Matched  Intersection  34387.0  ...      Wet   \n",
       "...         ...      ...           ...      ...  ...      ...   \n",
       "194668  E871089  Matched         Block      NaN  ...      Dry   \n",
       "194669  E876731  Matched         Block      NaN  ...      Wet   \n",
       "194670  3809984  Matched  Intersection  24760.0  ...      Dry   \n",
       "194671  3810083  Matched  Intersection  24349.0  ...      Dry   \n",
       "194672  E868008  Matched         Block      NaN  ...      Wet   \n",
       "\n",
       "                      LIGHTCOND PEDROWNOTGRNT  SDOTCOLNUM SPEEDING ST_COLCODE  \\\n",
       "0                      Daylight           NaN         NaN      NaN         10   \n",
       "1       Dark - Street Lights On           NaN   6354039.0      NaN         11   \n",
       "2                      Daylight           NaN   4323031.0      NaN         32   \n",
       "3                      Daylight           NaN         NaN      NaN         23   \n",
       "4                      Daylight           NaN   4028032.0      NaN         10   \n",
       "...                         ...           ...         ...      ...        ...   \n",
       "194668                 Daylight           NaN         NaN      NaN         24   \n",
       "194669                 Daylight           NaN         NaN      NaN         13   \n",
       "194670                 Daylight           NaN         NaN      NaN         28   \n",
       "194671                     Dusk           NaN         NaN      NaN          5   \n",
       "194672                 Daylight           NaN         NaN      NaN         14   \n",
       "\n",
       "                                               ST_COLDESC  SEGLANEKEY  \\\n",
       "0                                       Entering at angle           0   \n",
       "1       From same direction - both going straight - bo...           0   \n",
       "2                                  One parked--one moving           0   \n",
       "3                        From same direction - all others           0   \n",
       "4                                       Entering at angle           0   \n",
       "...                                                   ...         ...   \n",
       "194668    From opposite direction - both moving - head-on           0   \n",
       "194669  From same direction - both going straight - bo...           0   \n",
       "194670  From opposite direction - one left turn - one ...           0   \n",
       "194671                       Vehicle Strikes Pedalcyclist        4308   \n",
       "194672  From same direction - both going straight - on...           0   \n",
       "\n",
       "        CROSSWALKKEY  HITPARKEDCAR  \n",
       "0                  0             N  \n",
       "1                  0             N  \n",
       "2                  0             N  \n",
       "3                  0             N  \n",
       "4                  0             N  \n",
       "...              ...           ...  \n",
       "194668             0             N  \n",
       "194669             0             N  \n",
       "194670             0             N  \n",
       "194671             0             N  \n",
       "194672             0             N  \n",
       "\n",
       "[194673 rows x 38 columns]"
      ]
     },
     "execution_count": 59,
     "metadata": {},
     "output_type": "execute_result"
    }
   ],
   "source": [
    "import pandas as pd\n",
    "import numpy as np\n",
    "import matplotlib.pyplot as plt\n",
    "import seaborn as sns\n",
    "df = pd.read_csv('C:/Users/Harpreet/Downloads/Data-Collisions.csv')\n",
    "df"
   ]
  },
  {
   "cell_type": "code",
   "execution_count": 60,
   "metadata": {},
   "outputs": [],
   "source": [
    "import warnings\n",
    "warnings.filterwarnings('ignore')"
   ]
  },
  {
   "cell_type": "code",
   "execution_count": 61,
   "metadata": {},
   "outputs": [
    {
     "data": {
      "text/html": [
       "<div>\n",
       "<style scoped>\n",
       "    .dataframe tbody tr th:only-of-type {\n",
       "        vertical-align: middle;\n",
       "    }\n",
       "\n",
       "    .dataframe tbody tr th {\n",
       "        vertical-align: top;\n",
       "    }\n",
       "\n",
       "    .dataframe thead th {\n",
       "        text-align: right;\n",
       "    }\n",
       "</style>\n",
       "<table border=\"1\" class=\"dataframe\">\n",
       "  <thead>\n",
       "    <tr style=\"text-align: right;\">\n",
       "      <th></th>\n",
       "      <th>SEVERITYCODE</th>\n",
       "      <th>X</th>\n",
       "      <th>Y</th>\n",
       "      <th>OBJECTID</th>\n",
       "      <th>INCKEY</th>\n",
       "      <th>COLDETKEY</th>\n",
       "      <th>REPORTNO</th>\n",
       "      <th>STATUS</th>\n",
       "      <th>ADDRTYPE</th>\n",
       "      <th>INTKEY</th>\n",
       "      <th>...</th>\n",
       "      <th>ROADCOND</th>\n",
       "      <th>LIGHTCOND</th>\n",
       "      <th>PEDROWNOTGRNT</th>\n",
       "      <th>SDOTCOLNUM</th>\n",
       "      <th>SPEEDING</th>\n",
       "      <th>ST_COLCODE</th>\n",
       "      <th>ST_COLDESC</th>\n",
       "      <th>SEGLANEKEY</th>\n",
       "      <th>CROSSWALKKEY</th>\n",
       "      <th>HITPARKEDCAR</th>\n",
       "    </tr>\n",
       "  </thead>\n",
       "  <tbody>\n",
       "    <tr>\n",
       "      <th>0</th>\n",
       "      <td>2</td>\n",
       "      <td>-122.323148</td>\n",
       "      <td>47.703140</td>\n",
       "      <td>1</td>\n",
       "      <td>1307</td>\n",
       "      <td>1307</td>\n",
       "      <td>3502005</td>\n",
       "      <td>Matched</td>\n",
       "      <td>Intersection</td>\n",
       "      <td>37475.0</td>\n",
       "      <td>...</td>\n",
       "      <td>Wet</td>\n",
       "      <td>Daylight</td>\n",
       "      <td>NaN</td>\n",
       "      <td>NaN</td>\n",
       "      <td>NaN</td>\n",
       "      <td>10</td>\n",
       "      <td>Entering at angle</td>\n",
       "      <td>0</td>\n",
       "      <td>0</td>\n",
       "      <td>N</td>\n",
       "    </tr>\n",
       "    <tr>\n",
       "      <th>1</th>\n",
       "      <td>1</td>\n",
       "      <td>-122.347294</td>\n",
       "      <td>47.647172</td>\n",
       "      <td>2</td>\n",
       "      <td>52200</td>\n",
       "      <td>52200</td>\n",
       "      <td>2607959</td>\n",
       "      <td>Matched</td>\n",
       "      <td>Block</td>\n",
       "      <td>NaN</td>\n",
       "      <td>...</td>\n",
       "      <td>Wet</td>\n",
       "      <td>Dark - Street Lights On</td>\n",
       "      <td>NaN</td>\n",
       "      <td>6354039.0</td>\n",
       "      <td>NaN</td>\n",
       "      <td>11</td>\n",
       "      <td>From same direction - both going straight - bo...</td>\n",
       "      <td>0</td>\n",
       "      <td>0</td>\n",
       "      <td>N</td>\n",
       "    </tr>\n",
       "    <tr>\n",
       "      <th>2</th>\n",
       "      <td>1</td>\n",
       "      <td>-122.334540</td>\n",
       "      <td>47.607871</td>\n",
       "      <td>3</td>\n",
       "      <td>26700</td>\n",
       "      <td>26700</td>\n",
       "      <td>1482393</td>\n",
       "      <td>Matched</td>\n",
       "      <td>Block</td>\n",
       "      <td>NaN</td>\n",
       "      <td>...</td>\n",
       "      <td>Dry</td>\n",
       "      <td>Daylight</td>\n",
       "      <td>NaN</td>\n",
       "      <td>4323031.0</td>\n",
       "      <td>NaN</td>\n",
       "      <td>32</td>\n",
       "      <td>One parked--one moving</td>\n",
       "      <td>0</td>\n",
       "      <td>0</td>\n",
       "      <td>N</td>\n",
       "    </tr>\n",
       "    <tr>\n",
       "      <th>3</th>\n",
       "      <td>1</td>\n",
       "      <td>-122.334803</td>\n",
       "      <td>47.604803</td>\n",
       "      <td>4</td>\n",
       "      <td>1144</td>\n",
       "      <td>1144</td>\n",
       "      <td>3503937</td>\n",
       "      <td>Matched</td>\n",
       "      <td>Block</td>\n",
       "      <td>NaN</td>\n",
       "      <td>...</td>\n",
       "      <td>Dry</td>\n",
       "      <td>Daylight</td>\n",
       "      <td>NaN</td>\n",
       "      <td>NaN</td>\n",
       "      <td>NaN</td>\n",
       "      <td>23</td>\n",
       "      <td>From same direction - all others</td>\n",
       "      <td>0</td>\n",
       "      <td>0</td>\n",
       "      <td>N</td>\n",
       "    </tr>\n",
       "    <tr>\n",
       "      <th>4</th>\n",
       "      <td>2</td>\n",
       "      <td>-122.306426</td>\n",
       "      <td>47.545739</td>\n",
       "      <td>5</td>\n",
       "      <td>17700</td>\n",
       "      <td>17700</td>\n",
       "      <td>1807429</td>\n",
       "      <td>Matched</td>\n",
       "      <td>Intersection</td>\n",
       "      <td>34387.0</td>\n",
       "      <td>...</td>\n",
       "      <td>Wet</td>\n",
       "      <td>Daylight</td>\n",
       "      <td>NaN</td>\n",
       "      <td>4028032.0</td>\n",
       "      <td>NaN</td>\n",
       "      <td>10</td>\n",
       "      <td>Entering at angle</td>\n",
       "      <td>0</td>\n",
       "      <td>0</td>\n",
       "      <td>N</td>\n",
       "    </tr>\n",
       "  </tbody>\n",
       "</table>\n",
       "<p>5 rows × 38 columns</p>\n",
       "</div>"
      ],
      "text/plain": [
       "   SEVERITYCODE           X          Y  OBJECTID  INCKEY  COLDETKEY REPORTNO  \\\n",
       "0             2 -122.323148  47.703140         1    1307       1307  3502005   \n",
       "1             1 -122.347294  47.647172         2   52200      52200  2607959   \n",
       "2             1 -122.334540  47.607871         3   26700      26700  1482393   \n",
       "3             1 -122.334803  47.604803         4    1144       1144  3503937   \n",
       "4             2 -122.306426  47.545739         5   17700      17700  1807429   \n",
       "\n",
       "    STATUS      ADDRTYPE   INTKEY  ... ROADCOND                LIGHTCOND  \\\n",
       "0  Matched  Intersection  37475.0  ...      Wet                 Daylight   \n",
       "1  Matched         Block      NaN  ...      Wet  Dark - Street Lights On   \n",
       "2  Matched         Block      NaN  ...      Dry                 Daylight   \n",
       "3  Matched         Block      NaN  ...      Dry                 Daylight   \n",
       "4  Matched  Intersection  34387.0  ...      Wet                 Daylight   \n",
       "\n",
       "  PEDROWNOTGRNT  SDOTCOLNUM SPEEDING ST_COLCODE  \\\n",
       "0           NaN         NaN      NaN         10   \n",
       "1           NaN   6354039.0      NaN         11   \n",
       "2           NaN   4323031.0      NaN         32   \n",
       "3           NaN         NaN      NaN         23   \n",
       "4           NaN   4028032.0      NaN         10   \n",
       "\n",
       "                                          ST_COLDESC  SEGLANEKEY  \\\n",
       "0                                  Entering at angle           0   \n",
       "1  From same direction - both going straight - bo...           0   \n",
       "2                             One parked--one moving           0   \n",
       "3                   From same direction - all others           0   \n",
       "4                                  Entering at angle           0   \n",
       "\n",
       "   CROSSWALKKEY  HITPARKEDCAR  \n",
       "0             0             N  \n",
       "1             0             N  \n",
       "2             0             N  \n",
       "3             0             N  \n",
       "4             0             N  \n",
       "\n",
       "[5 rows x 38 columns]"
      ]
     },
     "execution_count": 61,
     "metadata": {},
     "output_type": "execute_result"
    }
   ],
   "source": [
    "df.head(5)"
   ]
  },
  {
   "cell_type": "code",
   "execution_count": 62,
   "metadata": {},
   "outputs": [
    {
     "data": {
      "text/plain": [
       "SEVERITYCODE        int64\n",
       "X                 float64\n",
       "Y                 float64\n",
       "OBJECTID            int64\n",
       "INCKEY              int64\n",
       "COLDETKEY           int64\n",
       "REPORTNO           object\n",
       "STATUS             object\n",
       "ADDRTYPE           object\n",
       "INTKEY            float64\n",
       "LOCATION           object\n",
       "EXCEPTRSNCODE      object\n",
       "EXCEPTRSNDESC      object\n",
       "SEVERITYCODE.1      int64\n",
       "SEVERITYDESC       object\n",
       "COLLISIONTYPE      object\n",
       "PERSONCOUNT         int64\n",
       "PEDCOUNT            int64\n",
       "PEDCYLCOUNT         int64\n",
       "VEHCOUNT            int64\n",
       "INCDATE            object\n",
       "INCDTTM            object\n",
       "JUNCTIONTYPE       object\n",
       "SDOT_COLCODE        int64\n",
       "SDOT_COLDESC       object\n",
       "INATTENTIONIND     object\n",
       "UNDERINFL          object\n",
       "WEATHER            object\n",
       "ROADCOND           object\n",
       "LIGHTCOND          object\n",
       "PEDROWNOTGRNT      object\n",
       "SDOTCOLNUM        float64\n",
       "SPEEDING           object\n",
       "ST_COLCODE         object\n",
       "ST_COLDESC         object\n",
       "SEGLANEKEY          int64\n",
       "CROSSWALKKEY        int64\n",
       "HITPARKEDCAR       object\n",
       "dtype: object"
      ]
     },
     "execution_count": 62,
     "metadata": {},
     "output_type": "execute_result"
    }
   ],
   "source": [
    "df.dtypes"
   ]
  },
  {
   "cell_type": "code",
   "execution_count": 63,
   "metadata": {},
   "outputs": [
    {
     "data": {
      "text/plain": [
       "1    136485\n",
       "2     58188\n",
       "Name: SEVERITYCODE, dtype: int64"
      ]
     },
     "execution_count": 63,
     "metadata": {},
     "output_type": "execute_result"
    }
   ],
   "source": [
    "df[\"SEVERITYCODE\"].value_counts()"
   ]
  },
  {
   "cell_type": "code",
   "execution_count": 64,
   "metadata": {},
   "outputs": [
    {
     "data": {
      "text/plain": [
       "Dry               124510\n",
       "Wet                47474\n",
       "Unknown            15078\n",
       "Ice                 1209\n",
       "Snow/Slush          1004\n",
       "Other                132\n",
       "Standing Water       115\n",
       "Sand/Mud/Dirt         75\n",
       "Oil                   64\n",
       "Name: ROADCOND, dtype: int64"
      ]
     },
     "execution_count": 64,
     "metadata": {},
     "output_type": "execute_result"
    }
   ],
   "source": [
    "df[\"ROADCOND\"].value_counts()"
   ]
  },
  {
   "cell_type": "code",
   "execution_count": 65,
   "metadata": {},
   "outputs": [
    {
     "data": {
      "text/plain": [
       "ROADCOND        SEVERITYCODE\n",
       "Dry             1               0.678227\n",
       "                2               0.321773\n",
       "Ice             1               0.774194\n",
       "                2               0.225806\n",
       "Oil             1               0.625000\n",
       "                2               0.375000\n",
       "Other           1               0.674242\n",
       "                2               0.325758\n",
       "Sand/Mud/Dirt   1               0.693333\n",
       "                2               0.306667\n",
       "Snow/Slush      1               0.833665\n",
       "                2               0.166335\n",
       "Standing Water  1               0.739130\n",
       "                2               0.260870\n",
       "Unknown         1               0.950325\n",
       "                2               0.049675\n",
       "Wet             1               0.668134\n",
       "                2               0.331866\n",
       "Name: SEVERITYCODE, dtype: float64"
      ]
     },
     "execution_count": 65,
     "metadata": {},
     "output_type": "execute_result"
    }
   ],
   "source": [
    "df.groupby(['ROADCOND'])['SEVERITYCODE'].value_counts(normalize=True)"
   ]
  },
  {
   "cell_type": "code",
   "execution_count": 66,
   "metadata": {},
   "outputs": [
    {
     "data": {
      "text/plain": [
       "<matplotlib.axes._subplots.AxesSubplot at 0x237a036eb48>"
      ]
     },
     "execution_count": 66,
     "metadata": {},
     "output_type": "execute_result"
    },
    {
     "data": {
      "image/png": "[encoded data removed]",
      "text/plain": [
       "<Figure size 720x432 with 1 Axes>"
      ]
     },
     "metadata": {
      "needs_background": "light"
     },
     "output_type": "display_data"
    }
   ],
   "source": [
    "f, ax = plt.subplots(figsize=(10, 6))\n",
    "sns.countplot(y='ROADCOND', hue='SEVERITYCODE',data=df,order=df['ROADCOND'].value_counts().index)"
   ]
  },
  {
   "cell_type": "code",
   "execution_count": 67,
   "metadata": {},
   "outputs": [
    {
     "data": {
      "text/plain": [
       "Daylight                    116137\n",
       "Dark - Street Lights On      48507\n",
       "Unknown                      13473\n",
       "Dusk                          5902\n",
       "Dawn                          2502\n",
       "Dark - No Street Lights       1537\n",
       "Dark - Street Lights Off      1199\n",
       "Other                          235\n",
       "Dark - Unknown Lighting         11\n",
       "Name: LIGHTCOND, dtype: int64"
      ]
     },
     "execution_count": 67,
     "metadata": {},
     "output_type": "execute_result"
    }
   ],
   "source": [
    "df[\"LIGHTCOND\"].value_counts()"
   ]
  },
  {
   "cell_type": "code",
   "execution_count": 68,
   "metadata": {},
   "outputs": [
    {
     "data": {
      "text/plain": [
       "LIGHTCOND                 SEVERITYCODE\n",
       "Dark - No Street Lights   1               0.782694\n",
       "                          2               0.217306\n",
       "Dark - Street Lights Off  1               0.736447\n",
       "                          2               0.263553\n",
       "Dark - Street Lights On   1               0.701589\n",
       "                          2               0.298411\n",
       "Dark - Unknown Lighting   1               0.636364\n",
       "                          2               0.363636\n",
       "Dawn                      1               0.670663\n",
       "                          2               0.329337\n",
       "Daylight                  1               0.668116\n",
       "                          2               0.331884\n",
       "Dusk                      1               0.670620\n",
       "                          2               0.329380\n",
       "Other                     1               0.778723\n",
       "                          2               0.221277\n",
       "Unknown                   1               0.955095\n",
       "                          2               0.044905\n",
       "Name: SEVERITYCODE, dtype: float64"
      ]
     },
     "execution_count": 68,
     "metadata": {},
     "output_type": "execute_result"
    }
   ],
   "source": [
    "df.groupby(['LIGHTCOND'])['SEVERITYCODE'].value_counts(normalize=True)"
   ]
  },
  {
   "cell_type": "code",
   "execution_count": 69,
   "metadata": {},
   "outputs": [
    {
     "data": {
      "text/plain": [
       "<matplotlib.axes._subplots.AxesSubplot at 0x237a1576648>"
      ]
     },
     "execution_count": 69,
     "metadata": {},
     "output_type": "execute_result"
    },
    {
     "data": {
      "image/png": "[encoded data removed]",
      "text/plain": [
       "<Figure size 720x432 with 1 Axes>"
      ]
     },
     "metadata": {
      "needs_background": "light"
     },
     "output_type": "display_data"
    }
   ],
   "source": [
    "f, ax = plt.subplots(figsize=(10, 6))\n",
    "sns.countplot(y='LIGHTCOND', hue='SEVERITYCODE',data=df,order=df['LIGHTCOND'].value_counts().index)"
   ]
  },
  {
   "cell_type": "code",
   "execution_count": 70,
   "metadata": {},
   "outputs": [
    {
     "data": {
      "text/plain": [
       "Clear                       111135\n",
       "Raining                      33145\n",
       "Overcast                     27714\n",
       "Unknown                      15091\n",
       "Snowing                        907\n",
       "Other                          832\n",
       "Fog/Smog/Smoke                 569\n",
       "Sleet/Hail/Freezing Rain       113\n",
       "Blowing Sand/Dirt               56\n",
       "Severe Crosswind                25\n",
       "Partly Cloudy                    5\n",
       "Name: WEATHER, dtype: int64"
      ]
     },
     "execution_count": 70,
     "metadata": {},
     "output_type": "execute_result"
    }
   ],
   "source": [
    "df[\"WEATHER\"].value_counts()"
   ]
  },
  {
   "cell_type": "code",
   "execution_count": 71,
   "metadata": {},
   "outputs": [
    {
     "data": {
      "text/plain": [
       "WEATHER                   SEVERITYCODE\n",
       "Blowing Sand/Dirt         1               0.732143\n",
       "                          2               0.267857\n",
       "Clear                     1               0.677509\n",
       "                          2               0.322491\n",
       "Fog/Smog/Smoke            1               0.671353\n",
       "                          2               0.328647\n",
       "Other                     1               0.860577\n",
       "                          2               0.139423\n",
       "Overcast                  1               0.684456\n",
       "                          2               0.315544\n",
       "Partly Cloudy             2               0.600000\n",
       "                          1               0.400000\n",
       "Raining                   1               0.662815\n",
       "                          2               0.337185\n",
       "Severe Crosswind          1               0.720000\n",
       "                          2               0.280000\n",
       "Sleet/Hail/Freezing Rain  1               0.752212\n",
       "                          2               0.247788\n",
       "Snowing                   1               0.811466\n",
       "                          2               0.188534\n",
       "Unknown                   1               0.945928\n",
       "                          2               0.054072\n",
       "Name: SEVERITYCODE, dtype: float64"
      ]
     },
     "execution_count": 71,
     "metadata": {},
     "output_type": "execute_result"
    }
   ],
   "source": [
    "df.groupby(['WEATHER'])['SEVERITYCODE'].value_counts(normalize=True)"
   ]
  },
  {
   "cell_type": "code",
   "execution_count": 72,
   "metadata": {},
   "outputs": [
    {
     "data": {
      "text/plain": [
       "<matplotlib.axes._subplots.AxesSubplot at 0x237a1769588>"
      ]
     },
     "execution_count": 72,
     "metadata": {},
     "output_type": "execute_result"
    },
    {
     "data": {
      "image/png": "[encoded data removed]",
      "text/plain": [
       "<Figure size 720x432 with 1 Axes>"
      ]
     },
     "metadata": {
      "needs_background": "light"
     },
     "output_type": "display_data"
    }
   ],
   "source": [
    "f, ax = plt.subplots(figsize=(10, 6))\n",
    "sns.countplot(y='WEATHER', hue='SEVERITYCODE',data=df,order=df['WEATHER'].value_counts().index)"
   ]
  },
  {
   "cell_type": "code",
   "execution_count": 73,
   "metadata": {},
   "outputs": [
    {
     "data": {
      "text/plain": [
       "Parked Car    47987\n",
       "Angles        34674\n",
       "Rear Ended    34090\n",
       "Other         23703\n",
       "Sideswipe     18609\n",
       "Left Turn     13703\n",
       "Pedestrian     6608\n",
       "Cycles         5415\n",
       "Right Turn     2956\n",
       "Head On        2024\n",
       "Name: COLLISIONTYPE, dtype: int64"
      ]
     },
     "execution_count": 73,
     "metadata": {},
     "output_type": "execute_result"
    }
   ],
   "source": [
    "df['COLLISIONTYPE'].value_counts()"
   ]
  },
  {
   "cell_type": "code",
   "execution_count": 74,
   "metadata": {},
   "outputs": [
    {
     "data": {
      "text/plain": [
       "COLLISIONTYPE  SEVERITYCODE\n",
       "Angles         1               0.607083\n",
       "               2               0.392917\n",
       "Cycles         2               0.876085\n",
       "               1               0.123915\n",
       "Head On        1               0.569170\n",
       "               2               0.430830\n",
       "Left Turn      1               0.605123\n",
       "               2               0.394877\n",
       "Other          1               0.742142\n",
       "               2               0.257858\n",
       "Parked Car     1               0.944527\n",
       "               2               0.055473\n",
       "Pedestrian     2               0.898305\n",
       "               1               0.101695\n",
       "Rear Ended     1               0.569639\n",
       "               2               0.430361\n",
       "Right Turn     1               0.793978\n",
       "               2               0.206022\n",
       "Sideswipe      1               0.865334\n",
       "               2               0.134666\n",
       "Name: SEVERITYCODE, dtype: float64"
      ]
     },
     "execution_count": 74,
     "metadata": {},
     "output_type": "execute_result"
    }
   ],
   "source": [
    "df.groupby(['COLLISIONTYPE'])['SEVERITYCODE'].value_counts(normalize=True)"
   ]
  },
  {
   "cell_type": "code",
   "execution_count": 75,
   "metadata": {},
   "outputs": [
    {
     "data": {
      "text/plain": [
       "<matplotlib.axes._subplots.AxesSubplot at 0x237a16a54c8>"
      ]
     },
     "execution_count": 75,
     "metadata": {},
     "output_type": "execute_result"
    },
    {
     "data": {
      "image/png": "[encoded data removed]",
      "text/plain": [
       "<Figure size 720x432 with 1 Axes>"
      ]
     },
     "metadata": {
      "needs_background": "light"
     },
     "output_type": "display_data"
    }
   ],
   "source": [
    "f, ax = plt.subplots(figsize=(10, 6))\n",
    "sns.countplot(y='COLLISIONTYPE', hue='SEVERITYCODE',data=df,order=df['COLLISIONTYPE'].value_counts().index)"
   ]
  },
  {
   "cell_type": "code",
   "execution_count": 76,
   "metadata": {},
   "outputs": [
    {
     "data": {
      "text/plain": [
       "Block           126926\n",
       "Intersection     65070\n",
       "Alley              751\n",
       "Name: ADDRTYPE, dtype: int64"
      ]
     },
     "execution_count": 76,
     "metadata": {},
     "output_type": "execute_result"
    }
   ],
   "source": [
    "df['ADDRTYPE'].value_counts()"
   ]
  },
  {
   "cell_type": "code",
   "execution_count": 77,
   "metadata": {},
   "outputs": [
    {
     "data": {
      "text/plain": [
       "ADDRTYPE      SEVERITYCODE\n",
       "Alley         1               0.890812\n",
       "              2               0.109188\n",
       "Block         1               0.762885\n",
       "              2               0.237115\n",
       "Intersection  1               0.572476\n",
       "              2               0.427524\n",
       "Name: SEVERITYCODE, dtype: float64"
      ]
     },
     "execution_count": 77,
     "metadata": {},
     "output_type": "execute_result"
    }
   ],
   "source": [
    "df.groupby(['ADDRTYPE'])['SEVERITYCODE'].value_counts(normalize=True)"
   ]
  },
  {
   "cell_type": "code",
   "execution_count": 78,
   "metadata": {},
   "outputs": [
    {
     "data": {
      "text/plain": [
       "<matplotlib.axes._subplots.AxesSubplot at 0x237a18a1ec8>"
      ]
     },
     "execution_count": 78,
     "metadata": {},
     "output_type": "execute_result"
    },
    {
     "data": {
      "image/png": "[encoded data removed]",
      "text/plain": [
       "<Figure size 432x288 with 1 Axes>"
      ]
     },
     "metadata": {
      "needs_background": "light"
     },
     "output_type": "display_data"
    }
   ],
   "source": [
    "sns.countplot(y='ADDRTYPE', hue='SEVERITYCODE',data=df, order=df['ADDRTYPE'].value_counts().index)"
   ]
  },
  {
   "cell_type": "markdown",
   "metadata": {},
   "source": [
    "63% intersection accident is severe 2 while only 42% block accident is severe 2"
   ]
  },
  {
   "cell_type": "code",
   "execution_count": 79,
   "metadata": {},
   "outputs": [
    {
     "data": {
      "text/plain": [
       "0    187734\n",
       "1      6685\n",
       "2       226\n",
       "3        22\n",
       "4         4\n",
       "6         1\n",
       "5         1\n",
       "Name: PEDCOUNT, dtype: int64"
      ]
     },
     "execution_count": 79,
     "metadata": {},
     "output_type": "execute_result"
    }
   ],
   "source": [
    "df['PEDCOUNT'].value_counts()"
   ]
  },
  {
   "cell_type": "code",
   "execution_count": 80,
   "metadata": {},
   "outputs": [
    {
     "data": {
      "text/plain": [
       "PEDCOUNT  SEVERITYCODE\n",
       "0         1               0.723295\n",
       "          2               0.276705\n",
       "1         2               0.898579\n",
       "          1               0.101421\n",
       "2         2               0.915929\n",
       "          1               0.084071\n",
       "3         2               0.954545\n",
       "          1               0.045455\n",
       "4         2               1.000000\n",
       "5         2               1.000000\n",
       "6         2               1.000000\n",
       "Name: SEVERITYCODE, dtype: float64"
      ]
     },
     "execution_count": 80,
     "metadata": {},
     "output_type": "execute_result"
    }
   ],
   "source": [
    "df.groupby(['PEDCOUNT'])['SEVERITYCODE'].value_counts(normalize=True)"
   ]
  },
  {
   "cell_type": "code",
   "execution_count": 81,
   "metadata": {},
   "outputs": [
    {
     "data": {
      "text/plain": [
       "<matplotlib.axes._subplots.AxesSubplot at 0x237a190e848>"
      ]
     },
     "execution_count": 81,
     "metadata": {},
     "output_type": "execute_result"
    },
    {
     "data": {
      "image/png": "[encoded data removed]",
      "text/plain": [
       "<Figure size 432x288 with 1 Axes>"
      ]
     },
     "metadata": {
      "needs_background": "light"
     },
     "output_type": "display_data"
    }
   ],
   "source": [
    "sns.countplot(y=\"PEDCOUNT\", hue=\"SEVERITYCODE\", data=df)"
   ]
  },
  {
   "cell_type": "code",
   "execution_count": 82,
   "metadata": {},
   "outputs": [
    {
     "data": {
      "text/html": [
       "<div>\n",
       "<style scoped>\n",
       "    .dataframe tbody tr th:only-of-type {\n",
       "        vertical-align: middle;\n",
       "    }\n",
       "\n",
       "    .dataframe tbody tr th {\n",
       "        vertical-align: top;\n",
       "    }\n",
       "\n",
       "    .dataframe thead th {\n",
       "        text-align: right;\n",
       "    }\n",
       "</style>\n",
       "<table border=\"1\" class=\"dataframe\">\n",
       "  <thead>\n",
       "    <tr style=\"text-align: right;\">\n",
       "      <th></th>\n",
       "      <th>SEVERITYCODE</th>\n",
       "      <th>ROADCOND</th>\n",
       "      <th>LIGHTCOND</th>\n",
       "      <th>WEATHER</th>\n",
       "    </tr>\n",
       "  </thead>\n",
       "  <tbody>\n",
       "    <tr>\n",
       "      <th>0</th>\n",
       "      <td>2</td>\n",
       "      <td>Wet</td>\n",
       "      <td>Daylight</td>\n",
       "      <td>Overcast</td>\n",
       "    </tr>\n",
       "    <tr>\n",
       "      <th>1</th>\n",
       "      <td>1</td>\n",
       "      <td>Wet</td>\n",
       "      <td>Dark - Street Lights On</td>\n",
       "      <td>Raining</td>\n",
       "    </tr>\n",
       "    <tr>\n",
       "      <th>2</th>\n",
       "      <td>1</td>\n",
       "      <td>Dry</td>\n",
       "      <td>Daylight</td>\n",
       "      <td>Overcast</td>\n",
       "    </tr>\n",
       "    <tr>\n",
       "      <th>3</th>\n",
       "      <td>1</td>\n",
       "      <td>Dry</td>\n",
       "      <td>Daylight</td>\n",
       "      <td>Clear</td>\n",
       "    </tr>\n",
       "    <tr>\n",
       "      <th>4</th>\n",
       "      <td>2</td>\n",
       "      <td>Wet</td>\n",
       "      <td>Daylight</td>\n",
       "      <td>Raining</td>\n",
       "    </tr>\n",
       "  </tbody>\n",
       "</table>\n",
       "</div>"
      ],
      "text/plain": [
       "   SEVERITYCODE ROADCOND                LIGHTCOND   WEATHER\n",
       "0             2      Wet                 Daylight  Overcast\n",
       "1             1      Wet  Dark - Street Lights On   Raining\n",
       "2             1      Dry                 Daylight  Overcast\n",
       "3             1      Dry                 Daylight     Clear\n",
       "4             2      Wet                 Daylight   Raining"
      ]
     },
     "execution_count": 82,
     "metadata": {},
     "output_type": "execute_result"
    }
   ],
   "source": [
    "df2 = df[[\"SEVERITYCODE\" , \"ROADCOND\" , \"LIGHTCOND\" , \"WEATHER\"]]\n",
    "df2.head(5)"
   ]
  },
  {
   "cell_type": "code",
   "execution_count": 83,
   "metadata": {},
   "outputs": [
    {
     "data": {
      "text/html": [
       "<div>\n",
       "<style scoped>\n",
       "    .dataframe tbody tr th:only-of-type {\n",
       "        vertical-align: middle;\n",
       "    }\n",
       "\n",
       "    .dataframe tbody tr th {\n",
       "        vertical-align: top;\n",
       "    }\n",
       "\n",
       "    .dataframe thead th {\n",
       "        text-align: right;\n",
       "    }\n",
       "</style>\n",
       "<table border=\"1\" class=\"dataframe\">\n",
       "  <thead>\n",
       "    <tr style=\"text-align: right;\">\n",
       "      <th></th>\n",
       "      <th>SEVERITYCODE</th>\n",
       "      <th>ROADCOND</th>\n",
       "      <th>LIGHTCOND</th>\n",
       "      <th>WEATHER</th>\n",
       "    </tr>\n",
       "  </thead>\n",
       "  <tbody>\n",
       "    <tr>\n",
       "      <th>0</th>\n",
       "      <td>2</td>\n",
       "      <td>Wet</td>\n",
       "      <td>Daylight</td>\n",
       "      <td>Overcast</td>\n",
       "    </tr>\n",
       "    <tr>\n",
       "      <th>1</th>\n",
       "      <td>1</td>\n",
       "      <td>Wet</td>\n",
       "      <td>Dark - Street Lights On</td>\n",
       "      <td>Raining</td>\n",
       "    </tr>\n",
       "    <tr>\n",
       "      <th>2</th>\n",
       "      <td>1</td>\n",
       "      <td>Dry</td>\n",
       "      <td>Daylight</td>\n",
       "      <td>Overcast</td>\n",
       "    </tr>\n",
       "    <tr>\n",
       "      <th>3</th>\n",
       "      <td>1</td>\n",
       "      <td>Dry</td>\n",
       "      <td>Daylight</td>\n",
       "      <td>Clear</td>\n",
       "    </tr>\n",
       "    <tr>\n",
       "      <th>4</th>\n",
       "      <td>2</td>\n",
       "      <td>Wet</td>\n",
       "      <td>Daylight</td>\n",
       "      <td>Raining</td>\n",
       "    </tr>\n",
       "    <tr>\n",
       "      <th>5</th>\n",
       "      <td>1</td>\n",
       "      <td>Dry</td>\n",
       "      <td>Daylight</td>\n",
       "      <td>Clear</td>\n",
       "    </tr>\n",
       "    <tr>\n",
       "      <th>6</th>\n",
       "      <td>1</td>\n",
       "      <td>Wet</td>\n",
       "      <td>Daylight</td>\n",
       "      <td>Raining</td>\n",
       "    </tr>\n",
       "    <tr>\n",
       "      <th>7</th>\n",
       "      <td>2</td>\n",
       "      <td>Dry</td>\n",
       "      <td>Daylight</td>\n",
       "      <td>Clear</td>\n",
       "    </tr>\n",
       "    <tr>\n",
       "      <th>8</th>\n",
       "      <td>1</td>\n",
       "      <td>Dry</td>\n",
       "      <td>Daylight</td>\n",
       "      <td>Clear</td>\n",
       "    </tr>\n",
       "    <tr>\n",
       "      <th>9</th>\n",
       "      <td>2</td>\n",
       "      <td>Dry</td>\n",
       "      <td>Daylight</td>\n",
       "      <td>Clear</td>\n",
       "    </tr>\n",
       "    <tr>\n",
       "      <th>10</th>\n",
       "      <td>1</td>\n",
       "      <td>Dry</td>\n",
       "      <td>Daylight</td>\n",
       "      <td>Overcast</td>\n",
       "    </tr>\n",
       "    <tr>\n",
       "      <th>11</th>\n",
       "      <td>1</td>\n",
       "      <td>Dry</td>\n",
       "      <td>Daylight</td>\n",
       "      <td>Clear</td>\n",
       "    </tr>\n",
       "    <tr>\n",
       "      <th>12</th>\n",
       "      <td>1</td>\n",
       "      <td>Wet</td>\n",
       "      <td>Dark - Street Lights On</td>\n",
       "      <td>Raining</td>\n",
       "    </tr>\n",
       "    <tr>\n",
       "      <th>13</th>\n",
       "      <td>1</td>\n",
       "      <td>Wet</td>\n",
       "      <td>Dark - No Street Lights</td>\n",
       "      <td>Raining</td>\n",
       "    </tr>\n",
       "    <tr>\n",
       "      <th>14</th>\n",
       "      <td>2</td>\n",
       "      <td>Dry</td>\n",
       "      <td>Dark - Street Lights On</td>\n",
       "      <td>Clear</td>\n",
       "    </tr>\n",
       "    <tr>\n",
       "      <th>15</th>\n",
       "      <td>1</td>\n",
       "      <td>NaN</td>\n",
       "      <td>NaN</td>\n",
       "      <td>NaN</td>\n",
       "    </tr>\n",
       "    <tr>\n",
       "      <th>16</th>\n",
       "      <td>2</td>\n",
       "      <td>Dry</td>\n",
       "      <td>Daylight</td>\n",
       "      <td>Overcast</td>\n",
       "    </tr>\n",
       "    <tr>\n",
       "      <th>17</th>\n",
       "      <td>1</td>\n",
       "      <td>Dry</td>\n",
       "      <td>Daylight</td>\n",
       "      <td>Overcast</td>\n",
       "    </tr>\n",
       "    <tr>\n",
       "      <th>18</th>\n",
       "      <td>2</td>\n",
       "      <td>Dry</td>\n",
       "      <td>Daylight</td>\n",
       "      <td>Clear</td>\n",
       "    </tr>\n",
       "    <tr>\n",
       "      <th>19</th>\n",
       "      <td>1</td>\n",
       "      <td>Dry</td>\n",
       "      <td>NaN</td>\n",
       "      <td>NaN</td>\n",
       "    </tr>\n",
       "  </tbody>\n",
       "</table>\n",
       "</div>"
      ],
      "text/plain": [
       "    SEVERITYCODE ROADCOND                LIGHTCOND   WEATHER\n",
       "0              2      Wet                 Daylight  Overcast\n",
       "1              1      Wet  Dark - Street Lights On   Raining\n",
       "2              1      Dry                 Daylight  Overcast\n",
       "3              1      Dry                 Daylight     Clear\n",
       "4              2      Wet                 Daylight   Raining\n",
       "5              1      Dry                 Daylight     Clear\n",
       "6              1      Wet                 Daylight   Raining\n",
       "7              2      Dry                 Daylight     Clear\n",
       "8              1      Dry                 Daylight     Clear\n",
       "9              2      Dry                 Daylight     Clear\n",
       "10             1      Dry                 Daylight  Overcast\n",
       "11             1      Dry                 Daylight     Clear\n",
       "12             1      Wet  Dark - Street Lights On   Raining\n",
       "13             1      Wet  Dark - No Street Lights   Raining\n",
       "14             2      Dry  Dark - Street Lights On     Clear\n",
       "15             1      NaN                      NaN       NaN\n",
       "16             2      Dry                 Daylight  Overcast\n",
       "17             1      Dry                 Daylight  Overcast\n",
       "18             2      Dry                 Daylight     Clear\n",
       "19             1      Dry                      NaN       NaN"
      ]
     },
     "execution_count": 83,
     "metadata": {},
     "output_type": "execute_result"
    }
   ],
   "source": [
    "df2.replace(\"Unknown\", np.nan ,inplace=True)\n",
    "df2.head(20)"
   ]
  },
  {
   "cell_type": "code",
   "execution_count": 84,
   "metadata": {},
   "outputs": [
    {
     "data": {
      "text/html": [
       "<div>\n",
       "<style scoped>\n",
       "    .dataframe tbody tr th:only-of-type {\n",
       "        vertical-align: middle;\n",
       "    }\n",
       "\n",
       "    .dataframe tbody tr th {\n",
       "        vertical-align: top;\n",
       "    }\n",
       "\n",
       "    .dataframe thead th {\n",
       "        text-align: right;\n",
       "    }\n",
       "</style>\n",
       "<table border=\"1\" class=\"dataframe\">\n",
       "  <thead>\n",
       "    <tr style=\"text-align: right;\">\n",
       "      <th></th>\n",
       "      <th>SEVERITYCODE</th>\n",
       "      <th>ROADCOND</th>\n",
       "      <th>LIGHTCOND</th>\n",
       "      <th>WEATHER</th>\n",
       "    </tr>\n",
       "  </thead>\n",
       "  <tbody>\n",
       "    <tr>\n",
       "      <th>0</th>\n",
       "      <td>2</td>\n",
       "      <td>Wet</td>\n",
       "      <td>Daylight</td>\n",
       "      <td>Overcast</td>\n",
       "    </tr>\n",
       "    <tr>\n",
       "      <th>1</th>\n",
       "      <td>1</td>\n",
       "      <td>Wet</td>\n",
       "      <td>Dark - Street Lights On</td>\n",
       "      <td>Raining</td>\n",
       "    </tr>\n",
       "    <tr>\n",
       "      <th>2</th>\n",
       "      <td>1</td>\n",
       "      <td>Dry</td>\n",
       "      <td>Daylight</td>\n",
       "      <td>Overcast</td>\n",
       "    </tr>\n",
       "    <tr>\n",
       "      <th>3</th>\n",
       "      <td>1</td>\n",
       "      <td>Dry</td>\n",
       "      <td>Daylight</td>\n",
       "      <td>Clear</td>\n",
       "    </tr>\n",
       "    <tr>\n",
       "      <th>4</th>\n",
       "      <td>2</td>\n",
       "      <td>Wet</td>\n",
       "      <td>Daylight</td>\n",
       "      <td>Raining</td>\n",
       "    </tr>\n",
       "    <tr>\n",
       "      <th>5</th>\n",
       "      <td>1</td>\n",
       "      <td>Dry</td>\n",
       "      <td>Daylight</td>\n",
       "      <td>Clear</td>\n",
       "    </tr>\n",
       "    <tr>\n",
       "      <th>6</th>\n",
       "      <td>1</td>\n",
       "      <td>Wet</td>\n",
       "      <td>Daylight</td>\n",
       "      <td>Raining</td>\n",
       "    </tr>\n",
       "    <tr>\n",
       "      <th>7</th>\n",
       "      <td>2</td>\n",
       "      <td>Dry</td>\n",
       "      <td>Daylight</td>\n",
       "      <td>Clear</td>\n",
       "    </tr>\n",
       "    <tr>\n",
       "      <th>8</th>\n",
       "      <td>1</td>\n",
       "      <td>Dry</td>\n",
       "      <td>Daylight</td>\n",
       "      <td>Clear</td>\n",
       "    </tr>\n",
       "    <tr>\n",
       "      <th>9</th>\n",
       "      <td>2</td>\n",
       "      <td>Dry</td>\n",
       "      <td>Daylight</td>\n",
       "      <td>Clear</td>\n",
       "    </tr>\n",
       "    <tr>\n",
       "      <th>10</th>\n",
       "      <td>1</td>\n",
       "      <td>Dry</td>\n",
       "      <td>Daylight</td>\n",
       "      <td>Overcast</td>\n",
       "    </tr>\n",
       "    <tr>\n",
       "      <th>11</th>\n",
       "      <td>1</td>\n",
       "      <td>Dry</td>\n",
       "      <td>Daylight</td>\n",
       "      <td>Clear</td>\n",
       "    </tr>\n",
       "    <tr>\n",
       "      <th>12</th>\n",
       "      <td>1</td>\n",
       "      <td>Wet</td>\n",
       "      <td>Dark - Street Lights On</td>\n",
       "      <td>Raining</td>\n",
       "    </tr>\n",
       "    <tr>\n",
       "      <th>13</th>\n",
       "      <td>1</td>\n",
       "      <td>Wet</td>\n",
       "      <td>Dark - No Street Lights</td>\n",
       "      <td>Raining</td>\n",
       "    </tr>\n",
       "    <tr>\n",
       "      <th>14</th>\n",
       "      <td>2</td>\n",
       "      <td>Dry</td>\n",
       "      <td>Dark - Street Lights On</td>\n",
       "      <td>Clear</td>\n",
       "    </tr>\n",
       "    <tr>\n",
       "      <th>15</th>\n",
       "      <td>2</td>\n",
       "      <td>Dry</td>\n",
       "      <td>Daylight</td>\n",
       "      <td>Overcast</td>\n",
       "    </tr>\n",
       "    <tr>\n",
       "      <th>16</th>\n",
       "      <td>1</td>\n",
       "      <td>Dry</td>\n",
       "      <td>Daylight</td>\n",
       "      <td>Overcast</td>\n",
       "    </tr>\n",
       "    <tr>\n",
       "      <th>17</th>\n",
       "      <td>2</td>\n",
       "      <td>Dry</td>\n",
       "      <td>Daylight</td>\n",
       "      <td>Clear</td>\n",
       "    </tr>\n",
       "    <tr>\n",
       "      <th>18</th>\n",
       "      <td>2</td>\n",
       "      <td>Dry</td>\n",
       "      <td>Dark - Street Lights On</td>\n",
       "      <td>Clear</td>\n",
       "    </tr>\n",
       "    <tr>\n",
       "      <th>19</th>\n",
       "      <td>2</td>\n",
       "      <td>Dry</td>\n",
       "      <td>Daylight</td>\n",
       "      <td>Clear</td>\n",
       "    </tr>\n",
       "  </tbody>\n",
       "</table>\n",
       "</div>"
      ],
      "text/plain": [
       "    SEVERITYCODE ROADCOND                LIGHTCOND   WEATHER\n",
       "0              2      Wet                 Daylight  Overcast\n",
       "1              1      Wet  Dark - Street Lights On   Raining\n",
       "2              1      Dry                 Daylight  Overcast\n",
       "3              1      Dry                 Daylight     Clear\n",
       "4              2      Wet                 Daylight   Raining\n",
       "5              1      Dry                 Daylight     Clear\n",
       "6              1      Wet                 Daylight   Raining\n",
       "7              2      Dry                 Daylight     Clear\n",
       "8              1      Dry                 Daylight     Clear\n",
       "9              2      Dry                 Daylight     Clear\n",
       "10             1      Dry                 Daylight  Overcast\n",
       "11             1      Dry                 Daylight     Clear\n",
       "12             1      Wet  Dark - Street Lights On   Raining\n",
       "13             1      Wet  Dark - No Street Lights   Raining\n",
       "14             2      Dry  Dark - Street Lights On     Clear\n",
       "15             2      Dry                 Daylight  Overcast\n",
       "16             1      Dry                 Daylight  Overcast\n",
       "17             2      Dry                 Daylight     Clear\n",
       "18             2      Dry  Dark - Street Lights On     Clear\n",
       "19             2      Dry                 Daylight     Clear"
      ]
     },
     "execution_count": 84,
     "metadata": {},
     "output_type": "execute_result"
    }
   ],
   "source": [
    "df2.dropna(subset=[\"LIGHTCOND\" , \"ROADCOND\" , \"WEATHER\" ] , axis= 0 , inplace = True)\n",
    "df2.reset_index(drop = True , inplace = True)\n",
    "df2.head(20)"
   ]
  },
  {
   "cell_type": "markdown",
   "metadata": {},
   "source": [
    "### Resampling(Undersampling) to create balanced datasheet"
   ]
  },
  {
   "cell_type": "code",
   "execution_count": 85,
   "metadata": {},
   "outputs": [
    {
     "data": {
      "text/plain": [
       "1    114659\n",
       "2     55851\n",
       "Name: SEVERITYCODE, dtype: int64"
      ]
     },
     "execution_count": 85,
     "metadata": {},
     "output_type": "execute_result"
    }
   ],
   "source": [
    "df2[\"SEVERITYCODE\"].value_counts()"
   ]
  },
  {
   "cell_type": "code",
   "execution_count": 86,
   "metadata": {},
   "outputs": [
    {
     "data": {
      "image/png": "[encoded data removed]",
      "text/plain": [
       "<Figure size 432x288 with 1 Axes>"
      ]
     },
     "metadata": {
      "needs_background": "light"
     },
     "output_type": "display_data"
    }
   ],
   "source": [
    "import seaborn as sns\n",
    "import matplotlib.pyplot as plt \n",
    "%matplotlib inline\n",
    "sns.countplot('SEVERITYCODE', data=df)\n",
    "plt.title('Total Classes')\n",
    "plt.show()"
   ]
  },
  {
   "cell_type": "code",
   "execution_count": 87,
   "metadata": {},
   "outputs": [],
   "source": [
    "df2[\"WEATHER\"] = df2[\"WEATHER\"].astype('category')\n",
    "df2[\"ROADCOND\"] = df2[\"ROADCOND\"].astype('category')\n",
    "df2[\"LIGHTCOND\"] = df2[\"LIGHTCOND\"].astype('category')"
   ]
  },
  {
   "cell_type": "code",
   "execution_count": 88,
   "metadata": {},
   "outputs": [],
   "source": [
    "from sklearn.utils import resample"
   ]
  },
  {
   "cell_type": "code",
   "execution_count": 89,
   "metadata": {},
   "outputs": [
    {
     "data": {
      "text/plain": [
       "2    55851\n",
       "1    55851\n",
       "Name: SEVERITYCODE, dtype: int64"
      ]
     },
     "execution_count": 89,
     "metadata": {},
     "output_type": "execute_result"
    }
   ],
   "source": [
    "df2_maj = df2[df2.SEVERITYCODE==1]\n",
    "df2_min = df2[df2.SEVERITYCODE==2]\n",
    "\n",
    "df2_maj_resample = resample(df2_maj, replace=False, n_samples=55851, random_state=123)\n",
    "\n",
    "df3 = pd.concat([df2_maj_resample, df2_min])\n",
    "df3.SEVERITYCODE.value_counts()"
   ]
  },
  {
   "cell_type": "code",
   "execution_count": 90,
   "metadata": {},
   "outputs": [
    {
     "data": {
      "image/png": "[encoded data removed]",
      "text/plain": [
       "<Figure size 432x288 with 1 Axes>"
      ]
     },
     "metadata": {
      "needs_background": "light"
     },
     "output_type": "display_data"
    }
   ],
   "source": [
    "import seaborn as sns\n",
    "import matplotlib.pyplot as plt \n",
    "%matplotlib inline\n",
    "sns.countplot('SEVERITYCODE', data=df3)\n",
    "plt.title('Balanced Classes')\n",
    "plt.show()"
   ]
  },
  {
   "cell_type": "code",
   "execution_count": 91,
   "metadata": {},
   "outputs": [
    {
     "data": {
      "text/html": [
       "<div>\n",
       "<style scoped>\n",
       "    .dataframe tbody tr th:only-of-type {\n",
       "        vertical-align: middle;\n",
       "    }\n",
       "\n",
       "    .dataframe tbody tr th {\n",
       "        vertical-align: top;\n",
       "    }\n",
       "\n",
       "    .dataframe thead th {\n",
       "        text-align: right;\n",
       "    }\n",
       "</style>\n",
       "<table border=\"1\" class=\"dataframe\">\n",
       "  <thead>\n",
       "    <tr style=\"text-align: right;\">\n",
       "      <th></th>\n",
       "      <th>SEVERITYCODE</th>\n",
       "      <th>ROADCOND</th>\n",
       "      <th>LIGHTCOND</th>\n",
       "      <th>WEATHER</th>\n",
       "    </tr>\n",
       "  </thead>\n",
       "  <tbody>\n",
       "    <tr>\n",
       "      <th>0</th>\n",
       "      <td>1</td>\n",
       "      <td>Dry</td>\n",
       "      <td>Daylight</td>\n",
       "      <td>Clear</td>\n",
       "    </tr>\n",
       "    <tr>\n",
       "      <th>1</th>\n",
       "      <td>1</td>\n",
       "      <td>Dry</td>\n",
       "      <td>Dark - Street Lights On</td>\n",
       "      <td>Clear</td>\n",
       "    </tr>\n",
       "    <tr>\n",
       "      <th>2</th>\n",
       "      <td>1</td>\n",
       "      <td>Dry</td>\n",
       "      <td>Daylight</td>\n",
       "      <td>Clear</td>\n",
       "    </tr>\n",
       "    <tr>\n",
       "      <th>3</th>\n",
       "      <td>1</td>\n",
       "      <td>Wet</td>\n",
       "      <td>Daylight</td>\n",
       "      <td>Clear</td>\n",
       "    </tr>\n",
       "    <tr>\n",
       "      <th>4</th>\n",
       "      <td>1</td>\n",
       "      <td>Dry</td>\n",
       "      <td>Dark - Street Lights On</td>\n",
       "      <td>Clear</td>\n",
       "    </tr>\n",
       "    <tr>\n",
       "      <th>5</th>\n",
       "      <td>1</td>\n",
       "      <td>Dry</td>\n",
       "      <td>Daylight</td>\n",
       "      <td>Clear</td>\n",
       "    </tr>\n",
       "    <tr>\n",
       "      <th>6</th>\n",
       "      <td>1</td>\n",
       "      <td>Dry</td>\n",
       "      <td>Dark - Street Lights On</td>\n",
       "      <td>Clear</td>\n",
       "    </tr>\n",
       "    <tr>\n",
       "      <th>7</th>\n",
       "      <td>1</td>\n",
       "      <td>Dry</td>\n",
       "      <td>Daylight</td>\n",
       "      <td>Clear</td>\n",
       "    </tr>\n",
       "    <tr>\n",
       "      <th>8</th>\n",
       "      <td>1</td>\n",
       "      <td>Dry</td>\n",
       "      <td>Daylight</td>\n",
       "      <td>Clear</td>\n",
       "    </tr>\n",
       "    <tr>\n",
       "      <th>9</th>\n",
       "      <td>1</td>\n",
       "      <td>Dry</td>\n",
       "      <td>Daylight</td>\n",
       "      <td>Clear</td>\n",
       "    </tr>\n",
       "  </tbody>\n",
       "</table>\n",
       "</div>"
      ],
      "text/plain": [
       "   SEVERITYCODE ROADCOND                LIGHTCOND WEATHER\n",
       "0             1      Dry                 Daylight   Clear\n",
       "1             1      Dry  Dark - Street Lights On   Clear\n",
       "2             1      Dry                 Daylight   Clear\n",
       "3             1      Wet                 Daylight   Clear\n",
       "4             1      Dry  Dark - Street Lights On   Clear\n",
       "5             1      Dry                 Daylight   Clear\n",
       "6             1      Dry  Dark - Street Lights On   Clear\n",
       "7             1      Dry                 Daylight   Clear\n",
       "8             1      Dry                 Daylight   Clear\n",
       "9             1      Dry                 Daylight   Clear"
      ]
     },
     "execution_count": 91,
     "metadata": {},
     "output_type": "execute_result"
    }
   ],
   "source": [
    "df3.reset_index(drop=True, inplace=True)\n",
    "df3.head(10)"
   ]
  },
  {
   "cell_type": "code",
   "execution_count": 92,
   "metadata": {},
   "outputs": [
    {
     "data": {
      "text/html": [
       "<div>\n",
       "<style scoped>\n",
       "    .dataframe tbody tr th:only-of-type {\n",
       "        vertical-align: middle;\n",
       "    }\n",
       "\n",
       "    .dataframe tbody tr th {\n",
       "        vertical-align: top;\n",
       "    }\n",
       "\n",
       "    .dataframe thead th {\n",
       "        text-align: right;\n",
       "    }\n",
       "</style>\n",
       "<table border=\"1\" class=\"dataframe\">\n",
       "  <thead>\n",
       "    <tr style=\"text-align: right;\">\n",
       "      <th></th>\n",
       "      <th>SEVERITYCODE</th>\n",
       "      <th>ROADCOND</th>\n",
       "      <th>LIGHTCOND</th>\n",
       "      <th>WEATHER</th>\n",
       "    </tr>\n",
       "  </thead>\n",
       "  <tbody>\n",
       "    <tr>\n",
       "      <th>111692</th>\n",
       "      <td>2</td>\n",
       "      <td>Dry</td>\n",
       "      <td>Daylight</td>\n",
       "      <td>Clear</td>\n",
       "    </tr>\n",
       "    <tr>\n",
       "      <th>111693</th>\n",
       "      <td>2</td>\n",
       "      <td>Wet</td>\n",
       "      <td>Dark - Street Lights On</td>\n",
       "      <td>Overcast</td>\n",
       "    </tr>\n",
       "    <tr>\n",
       "      <th>111694</th>\n",
       "      <td>2</td>\n",
       "      <td>Dry</td>\n",
       "      <td>Daylight</td>\n",
       "      <td>Clear</td>\n",
       "    </tr>\n",
       "    <tr>\n",
       "      <th>111695</th>\n",
       "      <td>2</td>\n",
       "      <td>Wet</td>\n",
       "      <td>Other</td>\n",
       "      <td>Raining</td>\n",
       "    </tr>\n",
       "    <tr>\n",
       "      <th>111696</th>\n",
       "      <td>2</td>\n",
       "      <td>Dry</td>\n",
       "      <td>Daylight</td>\n",
       "      <td>Clear</td>\n",
       "    </tr>\n",
       "    <tr>\n",
       "      <th>111697</th>\n",
       "      <td>2</td>\n",
       "      <td>Wet</td>\n",
       "      <td>Daylight</td>\n",
       "      <td>Raining</td>\n",
       "    </tr>\n",
       "    <tr>\n",
       "      <th>111698</th>\n",
       "      <td>2</td>\n",
       "      <td>Wet</td>\n",
       "      <td>Daylight</td>\n",
       "      <td>Clear</td>\n",
       "    </tr>\n",
       "    <tr>\n",
       "      <th>111699</th>\n",
       "      <td>2</td>\n",
       "      <td>Dry</td>\n",
       "      <td>Daylight</td>\n",
       "      <td>Clear</td>\n",
       "    </tr>\n",
       "    <tr>\n",
       "      <th>111700</th>\n",
       "      <td>2</td>\n",
       "      <td>Dry</td>\n",
       "      <td>Daylight</td>\n",
       "      <td>Clear</td>\n",
       "    </tr>\n",
       "    <tr>\n",
       "      <th>111701</th>\n",
       "      <td>2</td>\n",
       "      <td>Dry</td>\n",
       "      <td>Dusk</td>\n",
       "      <td>Clear</td>\n",
       "    </tr>\n",
       "  </tbody>\n",
       "</table>\n",
       "</div>"
      ],
      "text/plain": [
       "        SEVERITYCODE ROADCOND                LIGHTCOND   WEATHER\n",
       "111692             2      Dry                 Daylight     Clear\n",
       "111693             2      Wet  Dark - Street Lights On  Overcast\n",
       "111694             2      Dry                 Daylight     Clear\n",
       "111695             2      Wet                    Other   Raining\n",
       "111696             2      Dry                 Daylight     Clear\n",
       "111697             2      Wet                 Daylight   Raining\n",
       "111698             2      Wet                 Daylight     Clear\n",
       "111699             2      Dry                 Daylight     Clear\n",
       "111700             2      Dry                 Daylight     Clear\n",
       "111701             2      Dry                     Dusk     Clear"
      ]
     },
     "execution_count": 92,
     "metadata": {},
     "output_type": "execute_result"
    }
   ],
   "source": [
    "df3.tail(10)"
   ]
  },
  {
   "cell_type": "code",
   "execution_count": 93,
   "metadata": {},
   "outputs": [],
   "source": [
    "df3[\"WEATHER_NUM\"] = df3[\"WEATHER\"].cat.codes\n",
    "df3[\"ROADCOND_NUM\"] = df3[\"ROADCOND\"].cat.codes\n",
    "df3[\"LIGHTCOND_NUM\"] = df3[\"LIGHTCOND\"].cat.codes"
   ]
  },
  {
   "cell_type": "code",
   "execution_count": 94,
   "metadata": {},
   "outputs": [
    {
     "data": {
      "text/html": [
       "<div>\n",
       "<style scoped>\n",
       "    .dataframe tbody tr th:only-of-type {\n",
       "        vertical-align: middle;\n",
       "    }\n",
       "\n",
       "    .dataframe tbody tr th {\n",
       "        vertical-align: top;\n",
       "    }\n",
       "\n",
       "    .dataframe thead th {\n",
       "        text-align: right;\n",
       "    }\n",
       "</style>\n",
       "<table border=\"1\" class=\"dataframe\">\n",
       "  <thead>\n",
       "    <tr style=\"text-align: right;\">\n",
       "      <th></th>\n",
       "      <th>SEVERITYCODE</th>\n",
       "      <th>ROADCOND</th>\n",
       "      <th>LIGHTCOND</th>\n",
       "      <th>WEATHER</th>\n",
       "      <th>WEATHER_NUM</th>\n",
       "      <th>ROADCOND_NUM</th>\n",
       "      <th>LIGHTCOND_NUM</th>\n",
       "    </tr>\n",
       "  </thead>\n",
       "  <tbody>\n",
       "    <tr>\n",
       "      <th>0</th>\n",
       "      <td>1</td>\n",
       "      <td>Dry</td>\n",
       "      <td>Daylight</td>\n",
       "      <td>Clear</td>\n",
       "      <td>1</td>\n",
       "      <td>0</td>\n",
       "      <td>5</td>\n",
       "    </tr>\n",
       "    <tr>\n",
       "      <th>1</th>\n",
       "      <td>1</td>\n",
       "      <td>Dry</td>\n",
       "      <td>Dark - Street Lights On</td>\n",
       "      <td>Clear</td>\n",
       "      <td>1</td>\n",
       "      <td>0</td>\n",
       "      <td>2</td>\n",
       "    </tr>\n",
       "    <tr>\n",
       "      <th>2</th>\n",
       "      <td>1</td>\n",
       "      <td>Dry</td>\n",
       "      <td>Daylight</td>\n",
       "      <td>Clear</td>\n",
       "      <td>1</td>\n",
       "      <td>0</td>\n",
       "      <td>5</td>\n",
       "    </tr>\n",
       "    <tr>\n",
       "      <th>3</th>\n",
       "      <td>1</td>\n",
       "      <td>Wet</td>\n",
       "      <td>Daylight</td>\n",
       "      <td>Clear</td>\n",
       "      <td>1</td>\n",
       "      <td>7</td>\n",
       "      <td>5</td>\n",
       "    </tr>\n",
       "    <tr>\n",
       "      <th>4</th>\n",
       "      <td>1</td>\n",
       "      <td>Dry</td>\n",
       "      <td>Dark - Street Lights On</td>\n",
       "      <td>Clear</td>\n",
       "      <td>1</td>\n",
       "      <td>0</td>\n",
       "      <td>2</td>\n",
       "    </tr>\n",
       "    <tr>\n",
       "      <th>5</th>\n",
       "      <td>1</td>\n",
       "      <td>Dry</td>\n",
       "      <td>Daylight</td>\n",
       "      <td>Clear</td>\n",
       "      <td>1</td>\n",
       "      <td>0</td>\n",
       "      <td>5</td>\n",
       "    </tr>\n",
       "    <tr>\n",
       "      <th>6</th>\n",
       "      <td>1</td>\n",
       "      <td>Dry</td>\n",
       "      <td>Dark - Street Lights On</td>\n",
       "      <td>Clear</td>\n",
       "      <td>1</td>\n",
       "      <td>0</td>\n",
       "      <td>2</td>\n",
       "    </tr>\n",
       "    <tr>\n",
       "      <th>7</th>\n",
       "      <td>1</td>\n",
       "      <td>Dry</td>\n",
       "      <td>Daylight</td>\n",
       "      <td>Clear</td>\n",
       "      <td>1</td>\n",
       "      <td>0</td>\n",
       "      <td>5</td>\n",
       "    </tr>\n",
       "    <tr>\n",
       "      <th>8</th>\n",
       "      <td>1</td>\n",
       "      <td>Dry</td>\n",
       "      <td>Daylight</td>\n",
       "      <td>Clear</td>\n",
       "      <td>1</td>\n",
       "      <td>0</td>\n",
       "      <td>5</td>\n",
       "    </tr>\n",
       "    <tr>\n",
       "      <th>9</th>\n",
       "      <td>1</td>\n",
       "      <td>Dry</td>\n",
       "      <td>Daylight</td>\n",
       "      <td>Clear</td>\n",
       "      <td>1</td>\n",
       "      <td>0</td>\n",
       "      <td>5</td>\n",
       "    </tr>\n",
       "  </tbody>\n",
       "</table>\n",
       "</div>"
      ],
      "text/plain": [
       "   SEVERITYCODE ROADCOND                LIGHTCOND WEATHER  WEATHER_NUM  \\\n",
       "0             1      Dry                 Daylight   Clear            1   \n",
       "1             1      Dry  Dark - Street Lights On   Clear            1   \n",
       "2             1      Dry                 Daylight   Clear            1   \n",
       "3             1      Wet                 Daylight   Clear            1   \n",
       "4             1      Dry  Dark - Street Lights On   Clear            1   \n",
       "5             1      Dry                 Daylight   Clear            1   \n",
       "6             1      Dry  Dark - Street Lights On   Clear            1   \n",
       "7             1      Dry                 Daylight   Clear            1   \n",
       "8             1      Dry                 Daylight   Clear            1   \n",
       "9             1      Dry                 Daylight   Clear            1   \n",
       "\n",
       "   ROADCOND_NUM  LIGHTCOND_NUM  \n",
       "0             0              5  \n",
       "1             0              2  \n",
       "2             0              5  \n",
       "3             7              5  \n",
       "4             0              2  \n",
       "5             0              5  \n",
       "6             0              2  \n",
       "7             0              5  \n",
       "8             0              5  \n",
       "9             0              5  "
      ]
     },
     "execution_count": 94,
     "metadata": {},
     "output_type": "execute_result"
    }
   ],
   "source": [
    "df3.head(10)"
   ]
  },
  {
   "cell_type": "code",
   "execution_count": 95,
   "metadata": {},
   "outputs": [
    {
     "data": {
      "text/plain": [
       "array([[1, 0, 5],\n",
       "       [1, 0, 2],\n",
       "       [1, 0, 5],\n",
       "       [1, 7, 5],\n",
       "       [1, 0, 2]], dtype=int8)"
      ]
     },
     "execution_count": 95,
     "metadata": {},
     "output_type": "execute_result"
    }
   ],
   "source": [
    "X = np.asarray(df3[['WEATHER_NUM' , 'ROADCOND_NUM' , 'LIGHTCOND_NUM']])\n",
    "X[0:5]"
   ]
  },
  {
   "cell_type": "code",
   "execution_count": 96,
   "metadata": {},
   "outputs": [
    {
     "data": {
      "text/plain": [
       "array([1, 1, 1, 1, 1], dtype=int64)"
      ]
     },
     "execution_count": 96,
     "metadata": {},
     "output_type": "execute_result"
    }
   ],
   "source": [
    "y = np.asarray(df3['SEVERITYCODE'])\n",
    "y[0:5]"
   ]
  },
  {
   "cell_type": "code",
   "execution_count": 97,
   "metadata": {},
   "outputs": [
    {
     "data": {
      "text/plain": [
       "array([[-0.71024412, -0.625086  ,  0.59417262],\n",
       "       [-0.71024412, -0.625086  , -1.50252518],\n",
       "       [-0.71024412, -0.625086  ,  0.59417262],\n",
       "       [-0.71024412,  1.61670159,  0.59417262],\n",
       "       [-0.71024412, -0.625086  , -1.50252518]])"
      ]
     },
     "execution_count": 97,
     "metadata": {},
     "output_type": "execute_result"
    }
   ],
   "source": [
    "from sklearn import preprocessing\n",
    "X = preprocessing.StandardScaler().fit(X).transform(X)\n",
    "X[0:5]"
   ]
  },
  {
   "cell_type": "markdown",
   "metadata": {},
   "source": [
    "# Modeling And Evaluation"
   ]
  },
  {
   "cell_type": "code",
   "execution_count": 98,
   "metadata": {},
   "outputs": [],
   "source": [
    "from sklearn.metrics import jaccard_score\n",
    "from sklearn.metrics import f1_score\n",
    "from sklearn.metrics import log_loss"
   ]
  },
  {
   "cell_type": "markdown",
   "metadata": {},
   "source": [
    "## Train and test "
   ]
  },
  {
   "cell_type": "code",
   "execution_count": 99,
   "metadata": {},
   "outputs": [
    {
     "name": "stdout",
     "output_type": "stream",
     "text": [
      "Train set rows: 78191\n",
      "Test set rows: 33511\n"
     ]
    }
   ],
   "source": [
    "from sklearn.model_selection import train_test_split \n",
    "X_train, X_test, y_train, y_test = train_test_split(X, y, test_size=0.3, random_state=4)\n",
    "print('Train set rows:', X_train.shape[0])\n",
    "print('Test set rows:',X_test.shape[0])"
   ]
  },
  {
   "cell_type": "markdown",
   "metadata": {},
   "source": [
    "## KNN"
   ]
  },
  {
   "cell_type": "code",
   "execution_count": 100,
   "metadata": {},
   "outputs": [
    {
     "data": {
      "text/plain": [
       "array([2, 2, 2, 2, 1], dtype=int64)"
      ]
     },
     "execution_count": 100,
     "metadata": {},
     "output_type": "execute_result"
    }
   ],
   "source": [
    "from sklearn.neighbors import KNeighborsClassifier\n",
    "\n",
    "k = 5\n",
    "knn = KNeighborsClassifier(n_neighbors = k).fit(X_train,y_train)\n",
    "\n",
    "knn_y_pred = knn.predict(X_test)\n",
    "knn_y_pred[0:5]"
   ]
  },
  {
   "cell_type": "code",
   "execution_count": 101,
   "metadata": {
    "scrolled": true
   },
   "outputs": [
    {
     "data": {
      "text/plain": [
       "array([0.49712035, 0.48724299, 0.49834383, 0.49661305, 0.50628152,\n",
       "       0.5069977 , 0.5069977 , 0.50687834, 0.50469995, 0.50643072,\n",
       "       0.50455074, 0.49646385, 0.50064158, 0.49998508, 0.50004476,\n",
       "       0.48813822, 0.49944794, 0.50884784, 0.50777357])"
      ]
     },
     "execution_count": 101,
     "metadata": {},
     "output_type": "execute_result"
    }
   ],
   "source": [
    "Ks=20\n",
    "mean_acc=np.zeros((Ks-1))\n",
    "std_acc=np.zeros((Ks-1))\n",
    "ConfustionMx=[];\n",
    "for n in range(1,Ks):\n",
    "    \n",
    "    #Train Model and Predict  \n",
    "    knn = KNeighborsClassifier(n_neighbors=n).fit(X_train,y_train)\n",
    "    knn_y_pred = knn.predict(X_test)\n",
    "    \n",
    "    \n",
    "    mean_acc[n-1]=np.mean(knn_y_pred==y_test);\n",
    "    \n",
    "    std_acc[n-1]=np.std(knn_y_pred==y_test)/np.sqrt(knn_y_pred.shape[0])\n",
    "mean_acc"
   ]
  },
  {
   "cell_type": "markdown",
   "metadata": {},
   "source": [
    "Plot"
   ]
  },
  {
   "cell_type": "code",
   "execution_count": 102,
   "metadata": {},
   "outputs": [
    {
     "data": {
      "image/png": "[encoded data removed]",
      "text/plain": [
       "<Figure size 432x288 with 1 Axes>"
      ]
     },
     "metadata": {
      "needs_background": "light"
     },
     "output_type": "display_data"
    }
   ],
   "source": [
    "import matplotlib as mpl\n",
    "import matplotlib.pyplot as plt\n",
    "plt.plot(range(1,Ks),mean_acc,'g')\n",
    "plt.fill_between(range(1,Ks),mean_acc - 1 * std_acc,mean_acc + 1 * std_acc, alpha=0.10)\n",
    "plt.legend(('Accuracy ', '+/- 3xstd'))\n",
    "plt.ylabel('Accuracy ')\n",
    "plt.xlabel('Number of Nabors (K)')\n",
    "plt.tight_layout()\n",
    "plt.show()"
   ]
  },
  {
   "cell_type": "code",
   "execution_count": 103,
   "metadata": {},
   "outputs": [
    {
     "name": "stdout",
     "output_type": "stream",
     "text": [
      "The best accuracy was with 0.5088478410074304 with k= 18\n"
     ]
    }
   ],
   "source": [
    "print( \"The best accuracy was with\", mean_acc.max(), \"with k=\", mean_acc.argmax()+1)"
   ]
  },
  {
   "cell_type": "code",
   "execution_count": 104,
   "metadata": {},
   "outputs": [
    {
     "data": {
      "text/plain": [
       "array([2, 2, 1, 2, 1], dtype=int64)"
      ]
     },
     "execution_count": 104,
     "metadata": {},
     "output_type": "execute_result"
    }
   ],
   "source": [
    "#Best k is 18\n",
    "k = 18\n",
    "knn = KNeighborsClassifier(n_neighbors = k).fit(X_train,y_train)\n",
    "\n",
    "knn_y_pred = knn.predict(X_test)\n",
    "knn_y_pred[0:5]"
   ]
  },
  {
   "cell_type": "code",
   "execution_count": 105,
   "metadata": {},
   "outputs": [
    {
     "name": "stdout",
     "output_type": "stream",
     "text": [
      "KNN Jaccard index: 0.31\n",
      "KNN F1-score: 0.51\n"
     ]
    }
   ],
   "source": [
    "print(\"KNN Jaccard index: %.2f\" % jaccard_score(y_test, knn_y_pred))\n",
    "print(\"KNN F1-score: %.2f\" % f1_score(y_test, knn_y_pred, average='weighted') )"
   ]
  },
  {
   "cell_type": "markdown",
   "metadata": {},
   "source": [
    "## Decision Tree"
   ]
  },
  {
   "cell_type": "code",
   "execution_count": 106,
   "metadata": {},
   "outputs": [
    {
     "data": {
      "text/plain": [
       "DecisionTreeClassifier(criterion='entropy', max_depth=7)"
      ]
     },
     "execution_count": 106,
     "metadata": {},
     "output_type": "execute_result"
    }
   ],
   "source": [
    "from sklearn.tree import DecisionTreeClassifier\n",
    "dt = DecisionTreeClassifier(criterion = \"entropy\", max_depth = 7)\n",
    "\n",
    "dt.fit(X_train,y_train)"
   ]
  },
  {
   "cell_type": "code",
   "execution_count": 107,
   "metadata": {},
   "outputs": [],
   "source": [
    "dt_y_pred = dt.predict(X_test)"
   ]
  },
  {
   "cell_type": "code",
   "execution_count": 108,
   "metadata": {},
   "outputs": [
    {
     "name": "stdout",
     "output_type": "stream",
     "text": [
      "DT Jaccard index: 0.19\n",
      "DT f1-score: 0.47\n"
     ]
    }
   ],
   "source": [
    "print(\"DT Jaccard index: %.2f\" % jaccard_score(y_test,dt_y_pred))\n",
    "print(\"DT f1-score: %.2f\" % f1_score(y_test, dt_y_pred, average='weighted'))"
   ]
  },
  {
   "cell_type": "markdown",
   "metadata": {},
   "source": [
    "## Logistic Regression"
   ]
  },
  {
   "cell_type": "code",
   "execution_count": 109,
   "metadata": {},
   "outputs": [],
   "source": [
    "from sklearn.linear_model import LogisticRegression\n",
    "from sklearn.metrics import confusion_matrix\n",
    "LR = LogisticRegression(C=6, solver='liblinear').fit(X_train,y_train)"
   ]
  },
  {
   "cell_type": "code",
   "execution_count": 110,
   "metadata": {},
   "outputs": [],
   "source": [
    "LR_y_pred = LR.predict(X_test) "
   ]
  },
  {
   "cell_type": "code",
   "execution_count": 111,
   "metadata": {},
   "outputs": [],
   "source": [
    "LR_y_prob = LR.predict_proba(X_test)"
   ]
  },
  {
   "cell_type": "code",
   "execution_count": 112,
   "metadata": {},
   "outputs": [
    {
     "name": "stdout",
     "output_type": "stream",
     "text": [
      "LR Jaccard index: 0.28\n",
      "LR F1-score: 0.51\n",
      "LR Logloss: 0.69\n"
     ]
    }
   ],
   "source": [
    "print(\"LR Jaccard index: %.2f\" % jaccard_score(y_test, LR_y_pred))\n",
    "print(\"LR F1-score: %.2f\" % f1_score(y_test, LR_y_pred, average='weighted'))\n",
    "print(\"LR Logloss: %.2f\" % log_loss(y_test, LR_y_prob))"
   ]
  },
  {
   "cell_type": "markdown",
   "metadata": {},
   "source": [
    "## Accuracy"
   ]
  },
  {
   "cell_type": "code",
   "execution_count": 113,
   "metadata": {},
   "outputs": [
    {
     "name": "stdout",
     "output_type": "stream",
     "text": [
      "KNN Accuracy : 0.5088478410074304\n"
     ]
    }
   ],
   "source": [
    "from sklearn.metrics import accuracy_score\n",
    "print(\"KNN Accuracy :\", accuracy_score(y_test, knn_y_pred))"
   ]
  },
  {
   "cell_type": "code",
   "execution_count": 114,
   "metadata": {},
   "outputs": [
    {
     "name": "stdout",
     "output_type": "stream",
     "text": [
      "Decision Tree Accuracy: 0.5192921727194055\n"
     ]
    }
   ],
   "source": [
    "print(\"Decision Tree Accuracy:\", accuracy_score(y_test, dt_y_pred))"
   ]
  },
  {
   "cell_type": "code",
   "execution_count": 115,
   "metadata": {},
   "outputs": [
    {
     "name": "stdout",
     "output_type": "stream",
     "text": [
      "LR Accuracy : 0.5180686938617171\n"
     ]
    }
   ],
   "source": [
    "print(\"LR Accuracy :\", accuracy_score(y_test, LR_y_pred))"
   ]
  },
  {
   "cell_type": "markdown",
   "metadata": {},
   "source": [
    "# Result"
   ]
  },
  {
   "cell_type": "markdown",
   "metadata": {},
   "source": [
    "|Algorithm||Jaccard||F1-score||LogLoss||Accuracy|\n",
    "|---------||-------||--------||-------||--------|\n",
    "|KNN||0.31||0.51||NA||0.51|\n",
    "|DecisionTree||0.19||0.47||NA||0.52|\n",
    "|LogisticRegression||0.28||0.51||0.69||0.51|"
   ]
  },
  {
   "cell_type": "code",
   "execution_count": null,
   "metadata": {},
   "outputs": [],
   "source": []
  }
 ],
 "metadata": {
  "kernelspec": {
   "display_name": "Python 3",
   "language": "python",
   "name": "python3"
  },
  "language_info": {
   "codemirror_mode": {
    "name": "ipython",
    "version": 3
   },
   "file_extension": ".py",
   "mimetype": "text/x-python",
   "name": "python",
   "nbconvert_exporter": "python",
   "pygments_lexer": "ipython3",
   "version": "3.7.6"
  }
 },
 "nbformat": 4,
 "nbformat_minor": 1
}
